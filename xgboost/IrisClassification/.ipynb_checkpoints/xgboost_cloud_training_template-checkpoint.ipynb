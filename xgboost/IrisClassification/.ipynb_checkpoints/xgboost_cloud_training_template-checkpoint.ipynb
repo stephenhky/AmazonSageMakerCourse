{
 "cells": [
  {
   "cell_type": "markdown",
   "metadata": {},
   "source": [
    "# XGBoost Built-in Algorithm - Iris Classification Example"
   ]
  },
  {
   "cell_type": "code",
   "execution_count": 1,
   "metadata": {},
   "outputs": [],
   "source": [
    "import numpy as np\n",
    "import pandas as pd\n",
    "\n",
    "# Define IAM role\n",
    "import boto3\n",
    "import re\n",
    "import sagemaker\n",
    "from sagemaker import get_execution_role\n",
    "\n",
    "# SageMaker SDK Documentation: http://sagemaker.readthedocs.io/en/latest/estimators.html"
   ]
  },
  {
   "cell_type": "markdown",
   "metadata": {},
   "source": [
    "## Upload Data to S3"
   ]
  },
  {
   "cell_type": "code",
   "execution_count": 2,
   "metadata": {},
   "outputs": [],
   "source": [
    "bucket_name = 'aws-stephen-sagemaker'\n",
    "training_file_key = 'iris/iris_train.csv'\n",
    "validation_file_key = 'iris/iris_validation.csv'\n",
    "\n",
    "s3_model_output_location = r's3://{0}/iris/model'.format(bucket_name)\n",
    "s3_training_file_location = r's3://{0}/{1}'.format(bucket_name,training_file_key)\n",
    "s3_validation_file_location = r's3://{0}/{1}'.format(bucket_name,validation_file_key)"
   ]
  },
  {
   "cell_type": "code",
   "execution_count": 3,
   "metadata": {},
   "outputs": [
    {
     "name": "stdout",
     "output_type": "stream",
     "text": [
      "s3://aws-stephen-sagemaker/iris/model\n",
      "s3://aws-stephen-sagemaker/iris/iris_train.csv\n",
      "s3://aws-stephen-sagemaker/iris/iris_validation.csv\n"
     ]
    }
   ],
   "source": [
    "print(s3_model_output_location)\n",
    "print(s3_training_file_location)\n",
    "print(s3_validation_file_location)"
   ]
  },
  {
   "cell_type": "code",
   "execution_count": 4,
   "metadata": {},
   "outputs": [],
   "source": [
    "# Write and Reading from S3 is just as easy\n",
    "# files are referred as objects in S3.  \n",
    "# file name is referred as key name in S3\n",
    "# Files stored in S3 are automatically replicated across 3 different availability zones \n",
    "# in the region where the bucket was created.\n",
    "\n",
    "# http://boto3.readthedocs.io/en/latest/guide/s3.html\n",
    "def write_to_s3(filename, bucket, key):\n",
    "    with open(filename,'rb') as f: # Read in binary mode\n",
    "        return boto3.Session().resource('s3').Bucket(bucket).Object(key).upload_fileobj(f)"
   ]
  },
  {
   "cell_type": "code",
   "execution_count": 5,
   "metadata": {},
   "outputs": [],
   "source": [
    "write_to_s3('iris_train.csv',bucket_name,training_file_key)\n",
    "write_to_s3('iris_validation.csv',bucket_name,validation_file_key)"
   ]
  },
  {
   "cell_type": "markdown",
   "metadata": {},
   "source": [
    "## Training Algorithm Docker Image\n",
    "### AWS Maintains a separate image for every region and algorithm"
   ]
  },
  {
   "cell_type": "code",
   "execution_count": 6,
   "metadata": {},
   "outputs": [
    {
     "name": "stdout",
     "output_type": "stream",
     "text": [
      "Checkpoint uri: s3://aws-stephen-sagemaker/iris/checkpoints/xgboost-iris-v1\n"
     ]
    }
   ],
   "source": [
    "# Use Spot Instance - Save up to 90% of training cost by using spot instances when compared to on-demand instances\n",
    "# Reference: https://github.com/aws-samples/amazon-sagemaker-managed-spot-training/blob/main/xgboost_built_in_managed_spot_training_checkpointing/xgboost_built_in_managed_spot_training_checkpointing.ipynb\n",
    "\n",
    "# if you are still on two-month free-tier you can use the on-demand instance by setting:\n",
    "#   use_spot_instances = False\n",
    "\n",
    "# We will use spot for training\n",
    "use_spot_instances = True\n",
    "max_run = 3600 # in seconds\n",
    "max_wait = 7200 if use_spot_instances else None # in seconds\n",
    "\n",
    "job_name = 'xgboost-iris-v1'\n",
    "\n",
    "checkpoint_s3_uri = None\n",
    "\n",
    "if use_spot_instances:\n",
    "    checkpoint_s3_uri = f's3://{bucket_name}/iris/checkpoints/{job_name}'\n",
    "    \n",
    "print (f'Checkpoint uri: {checkpoint_s3_uri}')    "
   ]
  },
  {
   "cell_type": "code",
   "execution_count": 7,
   "metadata": {},
   "outputs": [],
   "source": [
    "sess = sagemaker.Session()"
   ]
  },
  {
   "cell_type": "code",
   "execution_count": 8,
   "metadata": {},
   "outputs": [],
   "source": [
    "role = get_execution_role()"
   ]
  },
  {
   "cell_type": "code",
   "execution_count": 9,
   "metadata": {},
   "outputs": [
    {
     "name": "stdout",
     "output_type": "stream",
     "text": [
      "arn:aws:iam::409029738116:role/service-role/AmazonSageMaker-ExecutionRole-20210812T190267\n"
     ]
    }
   ],
   "source": [
    "# This role contains the permissions needed to train, deploy models\n",
    "# SageMaker Service is trusted to assume this role\n",
    "print(role)"
   ]
  },
  {
   "cell_type": "code",
   "execution_count": 10,
   "metadata": {},
   "outputs": [
    {
     "name": "stdout",
     "output_type": "stream",
     "text": [
      "Using XGBoost Container 683313688378.dkr.ecr.us-east-1.amazonaws.com/sagemaker-xgboost:1.2-2\n"
     ]
    }
   ],
   "source": [
    "# https://sagemaker.readthedocs.io/en/stable/api/utility/image_uris.html#sagemaker.image_uris.retrieve\n",
    "\n",
    "# SDK 2 uses image_uris.retrieve the container image location\n",
    "\n",
    "# Use XGBoost 1.2 version \n",
    "container = sagemaker.image_uris.retrieve(\"xgboost\",sess.boto_region_name,version=\"1.2-2\")\n",
    "\n",
    "print (f'Using XGBoost Container {container}')"
   ]
  },
  {
   "cell_type": "markdown",
   "metadata": {},
   "source": [
    "## Build Model"
   ]
  },
  {
   "cell_type": "code",
   "execution_count": 11,
   "metadata": {},
   "outputs": [],
   "source": [
    "# Configure the training job\n",
    "# Specify type and number of instances to use\n",
    "# S3 location where final artifacts needs to be stored\n",
    "\n",
    "#   Reference: http://sagemaker.readthedocs.io/en/latest/estimators.html\n",
    "\n",
    "# for managed spot training, specify the use_spot_instances flag, max_run, max_wait and checkpoint_s3_uri\n",
    "\n",
    "# SDK 2.x version does not require train prefix for instance count and type\n",
    "estimator = sagemaker.estimator.Estimator(\n",
    "    container,\n",
    "    role,\n",
    "    instance_count=1,\n",
    "    instance_type='ml.m5.xlarge',\n",
    "    output_path=s3_model_output_location,\n",
    "    sagemaker_session=sess,\n",
    "    base_job_name = job_name,\n",
    "    use_spot_instances=use_spot_instances,\n",
    "    max_run=max_run,\n",
    "    max_wait=max_wait,\n",
    "    checkpoint_s3_uri=checkpoint_s3_uri)"
   ]
  },
  {
   "cell_type": "code",
   "execution_count": 12,
   "metadata": {},
   "outputs": [],
   "source": [
    "# Specify hyper parameters that appropriate for the training algorithm\n",
    "# XGBoost Training Parameter Reference: \n",
    "#   https://github.com/dmlc/xgboost/blob/master/doc/parameter.md\n",
    "estimator.set_hyperparameters(max_depth=5,\n",
    "                              objective=\"multi:softmax\",\n",
    "                              eval_metric=\"mlogloss\",\n",
    "                              num_class=3,\n",
    "                              num_round=100,\n",
    "                              early_stopping_rounds=10)"
   ]
  },
  {
   "cell_type": "code",
   "execution_count": 13,
   "metadata": {},
   "outputs": [
    {
     "data": {
      "text/plain": [
       "{'max_depth': 5,\n",
       " 'objective': 'multi:softmax',\n",
       " 'eval_metric': 'mlogloss',\n",
       " 'num_class': 3,\n",
       " 'num_round': 100,\n",
       " 'early_stopping_rounds': 10}"
      ]
     },
     "execution_count": 13,
     "metadata": {},
     "output_type": "execute_result"
    }
   ],
   "source": [
    "estimator.hyperparameters()"
   ]
  },
  {
   "cell_type": "markdown",
   "metadata": {},
   "source": [
    "### Specify Training Data Location and Optionally, Validation Data Location"
   ]
  },
  {
   "cell_type": "code",
   "execution_count": 14,
   "metadata": {},
   "outputs": [],
   "source": [
    "# content type can be libsvm or csv for XGBoost\n",
    "training_input_config = sagemaker.session.TrainingInput(\n",
    "    s3_data=s3_training_file_location,\n",
    "    content_type='csv',\n",
    "    s3_data_type='S3Prefix')\n",
    "\n",
    "validation_input_config = sagemaker.session.TrainingInput(\n",
    "    s3_data=s3_validation_file_location,\n",
    "    content_type='csv',\n",
    "    s3_data_type='S3Prefix'\n",
    ")\n",
    "\n",
    "data_channels = {'train': training_input_config, 'validation': validation_input_config}"
   ]
  },
  {
   "cell_type": "code",
   "execution_count": 15,
   "metadata": {},
   "outputs": [
    {
     "name": "stdout",
     "output_type": "stream",
     "text": [
      "{'DataSource': {'S3DataSource': {'S3DataType': 'S3Prefix', 'S3Uri': 's3://aws-stephen-sagemaker/iris/iris_train.csv', 'S3DataDistributionType': 'FullyReplicated'}}, 'ContentType': 'csv'}\n",
      "{'DataSource': {'S3DataSource': {'S3DataType': 'S3Prefix', 'S3Uri': 's3://aws-stephen-sagemaker/iris/iris_validation.csv', 'S3DataDistributionType': 'FullyReplicated'}}, 'ContentType': 'csv'}\n"
     ]
    }
   ],
   "source": [
    "print(training_input_config.config)\n",
    "print(validation_input_config.config)"
   ]
  },
  {
   "cell_type": "markdown",
   "metadata": {},
   "source": [
    "### Train the model"
   ]
  },
  {
   "cell_type": "code",
   "execution_count": 16,
   "metadata": {},
   "outputs": [
    {
     "name": "stdout",
     "output_type": "stream",
     "text": [
      "2021-09-01 02:14:33 Starting - Starting the training job...\n",
      "2021-09-01 02:15:02 Starting - Launching requested ML instancesProfilerReport-1630462473: InProgress\n",
      "......\n",
      "2021-09-01 02:16:02 Starting - Preparing the instances for training.........\n",
      "2021-09-01 02:17:23 Downloading - Downloading input data...\n",
      "2021-09-01 02:18:03 Training - Training image download completed. Training in progress.\n",
      "2021-09-01 02:18:03 Uploading - Uploading generated training model.\u001b[34m[2021-09-01 02:17:57.756 ip-10-2-227-230.ec2.internal:1 INFO utils.py:27] RULE_JOB_STOP_SIGNAL_FILENAME: None\u001b[0m\n",
      "\u001b[34m[2021-09-01:02:17:57:INFO] Imported framework sagemaker_xgboost_container.training\u001b[0m\n",
      "\u001b[34m[2021-09-01:02:17:57:INFO] Failed to parse hyperparameter eval_metric value mlogloss to Json.\u001b[0m\n",
      "\u001b[34mReturning the value itself\u001b[0m\n",
      "\u001b[34m[2021-09-01:02:17:57:INFO] Failed to parse hyperparameter objective value multi:softmax to Json.\u001b[0m\n",
      "\u001b[34mReturning the value itself\u001b[0m\n",
      "\u001b[34m[2021-09-01:02:17:57:INFO] No GPUs detected (normal if no gpus installed)\u001b[0m\n",
      "\u001b[34m[2021-09-01:02:17:57:INFO] Running XGBoost Sagemaker in algorithm mode\u001b[0m\n",
      "\u001b[34m[2021-09-01:02:17:57:INFO] Determined delimiter of CSV input is ','\u001b[0m\n",
      "\u001b[34m[2021-09-01:02:17:57:INFO] Determined delimiter of CSV input is ','\u001b[0m\n",
      "\u001b[34m[2021-09-01:02:17:57:INFO] Determined delimiter of CSV input is ','\u001b[0m\n",
      "\u001b[34m[2021-09-01:02:17:57:INFO] Determined delimiter of CSV input is ','\u001b[0m\n",
      "\u001b[34m[2021-09-01:02:17:57:INFO] Single node training.\u001b[0m\n",
      "\u001b[34m[2021-09-01:02:17:57:INFO] Train matrix has 105 rows and 4 columns\u001b[0m\n",
      "\u001b[34m[2021-09-01:02:17:57:INFO] Validation matrix has 45 rows\u001b[0m\n",
      "\u001b[34m[0]#011train-mlogloss:0.73876#011validation-mlogloss:0.74994\u001b[0m\n",
      "\u001b[34m[1]#011train-mlogloss:0.52787#011validation-mlogloss:0.55401\u001b[0m\n",
      "\u001b[34m[2]#011train-mlogloss:0.38960#011validation-mlogloss:0.42612\u001b[0m\n",
      "\u001b[34m[3]#011train-mlogloss:0.29429#011validation-mlogloss:0.34328\u001b[0m\n",
      "\u001b[34m[4]#011train-mlogloss:0.22736#011validation-mlogloss:0.29000\u001b[0m\n",
      "\u001b[34m[5]#011train-mlogloss:0.17920#011validation-mlogloss:0.24961\u001b[0m\n",
      "\u001b[34m[6]#011train-mlogloss:0.14403#011validation-mlogloss:0.22234\u001b[0m\n",
      "\u001b[34m[7]#011train-mlogloss:0.11664#011validation-mlogloss:0.20338\u001b[0m\n",
      "\u001b[34m[8]#011train-mlogloss:0.09668#011validation-mlogloss:0.18999\u001b[0m\n",
      "\u001b[34m[9]#011train-mlogloss:0.08128#011validation-mlogloss:0.18190\u001b[0m\n",
      "\u001b[34m[10]#011train-mlogloss:0.06783#011validation-mlogloss:0.17996\u001b[0m\n",
      "\u001b[34m[11]#011train-mlogloss:0.05794#011validation-mlogloss:0.18029\u001b[0m\n",
      "\u001b[34m[12]#011train-mlogloss:0.05011#011validation-mlogloss:0.18306\u001b[0m\n",
      "\u001b[34m[13]#011train-mlogloss:0.04428#011validation-mlogloss:0.18471\u001b[0m\n",
      "\u001b[34m[14]#011train-mlogloss:0.03993#011validation-mlogloss:0.18693\u001b[0m\n",
      "\u001b[34m[15]#011train-mlogloss:0.03615#011validation-mlogloss:0.18553\u001b[0m\n",
      "\u001b[34m[16]#011train-mlogloss:0.03310#011validation-mlogloss:0.18571\u001b[0m\n",
      "\u001b[34m[17]#011train-mlogloss:0.03065#011validation-mlogloss:0.18615\u001b[0m\n",
      "\u001b[34m[18]#011train-mlogloss:0.02874#011validation-mlogloss:0.18930\u001b[0m\n",
      "\u001b[34m[19]#011train-mlogloss:0.02739#011validation-mlogloss:0.18989\u001b[0m\n",
      "\u001b[34m[20]#011train-mlogloss:0.02639#011validation-mlogloss:0.19251\u001b[0m\n",
      "\n",
      "2021-09-01 02:19:03 Completed - Training job completed\n",
      "Training seconds: 93\n",
      "Billable seconds: 34\n",
      "Managed Spot Training savings: 63.4%\n"
     ]
    }
   ],
   "source": [
    "# XGBoost supports \"train\", \"validation\" channels\n",
    "# Reference: Supported channels by algorithm\n",
    "#   https://docs.aws.amazon.com/sagemaker/latest/dg/sagemaker-algo-docker-registry-paths.html\n",
    "estimator.fit(data_channels)"
   ]
  },
  {
   "cell_type": "markdown",
   "metadata": {},
   "source": [
    "## Deploy Model"
   ]
  },
  {
   "cell_type": "code",
   "execution_count": 17,
   "metadata": {},
   "outputs": [
    {
     "name": "stdout",
     "output_type": "stream",
     "text": [
      "-------------!"
     ]
    }
   ],
   "source": [
    "# Ref: http://sagemaker.readthedocs.io/en/latest/estimators.html\n",
    "predictor = estimator.deploy(initial_instance_count=1,\n",
    "                             instance_type='ml.m5.xlarge',\n",
    "                             endpoint_name = job_name)"
   ]
  },
  {
   "cell_type": "markdown",
   "metadata": {},
   "source": [
    "## Run Predictions"
   ]
  },
  {
   "cell_type": "code",
   "execution_count": 18,
   "metadata": {},
   "outputs": [],
   "source": [
    "# SDK 2.0 serializers\n",
    "from sagemaker.serializers import CSVSerializer\n",
    "predictor.serializer = CSVSerializer()"
   ]
  },
  {
   "cell_type": "code",
   "execution_count": 19,
   "metadata": {},
   "outputs": [
    {
     "data": {
      "text/plain": [
       "b'0.0,0.0,1.0'"
      ]
     },
     "execution_count": 19,
     "metadata": {},
     "output_type": "execute_result"
    }
   ],
   "source": [
    "predictor.predict([[4.8,3.4,1.6,0.2],[4.8,3.4,1.6,0.2],[5.8,2.7,4.1,1.0]])"
   ]
  },
  {
   "cell_type": "code",
   "execution_count": null,
   "metadata": {},
   "outputs": [],
   "source": []
  }
 ],
 "metadata": {
  "kernelspec": {
   "display_name": "conda_python3",
   "language": "python",
   "name": "conda_python3"
  },
  "language_info": {
   "codemirror_mode": {
    "name": "ipython",
    "version": 3
   },
   "file_extension": ".py",
   "mimetype": "text/x-python",
   "name": "python",
   "nbconvert_exporter": "python",
   "pygments_lexer": "ipython3",
   "version": "3.6.13"
  }
 },
 "nbformat": 4,
 "nbformat_minor": 4
}
