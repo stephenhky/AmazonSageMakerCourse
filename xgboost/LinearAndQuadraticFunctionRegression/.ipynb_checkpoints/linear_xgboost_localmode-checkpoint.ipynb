{
 "cells": [
  {
   "cell_type": "markdown",
   "metadata": {},
   "source": [
    "<h2>Simple Regression Dataset - Linear Regression vs XGBoost</h2>\n",
    "\n",
    "Model is trained with XGBoost installed in notebook instance\n",
    "\n",
    "In the later examples, we will train using SageMaker's XGBoost algorithm.\n",
    "\n",
    "Training on SageMaker takes several minutes (even for simple dataset).  \n",
    "\n",
    "If algorithm is supported on Python, we will try them locally on notebook instance\n",
    "\n",
    "This allows us to quickly learn an algorithm, understand tuning options and then finally train on SageMaker Cloud\n",
    "\n",
    "In this exercise, let's compare XGBoost and Linear Regression for simple regression dataset"
   ]
  },
  {
   "cell_type": "code",
   "execution_count": 1,
   "metadata": {},
   "outputs": [
    {
     "name": "stdout",
     "output_type": "stream",
     "text": [
      "Collecting xgboost==1.2\n",
      "  Downloading xgboost-1.2.0-py3-none-manylinux2010_x86_64.whl (148.9 MB)\n",
      "\u001b[K     |████████████████████████████████| 148.9 MB 34 kB/s s eta 0:00:01    |███████████████████▏            | 89.3 MB 22.1 MB/s eta 0:00:03\n",
      "\u001b[?25hRequirement already satisfied: scipy in /home/ec2-user/anaconda3/envs/python3/lib/python3.6/site-packages (from xgboost==1.2) (1.5.3)\n",
      "Requirement already satisfied: numpy in /home/ec2-user/anaconda3/envs/python3/lib/python3.6/site-packages (from xgboost==1.2) (1.19.5)\n",
      "Installing collected packages: xgboost\n",
      "Successfully installed xgboost-1.2.0\n",
      "\u001b[33mWARNING: You are using pip version 21.1.3; however, version 21.2.4 is available.\n",
      "You should consider upgrading via the '/home/ec2-user/anaconda3/envs/python3/bin/python -m pip install --upgrade pip' command.\u001b[0m\n"
     ]
    }
   ],
   "source": [
    "# Install xgboost in notebook instance.\n",
    "#### Command to install xgboost\n",
    "!pip install xgboost==1.2"
   ]
  },
  {
   "cell_type": "code",
   "execution_count": 1,
   "metadata": {},
   "outputs": [],
   "source": [
    "import sys\n",
    "import numpy as np\n",
    "import pandas as pd\n",
    "import matplotlib.pyplot as plt\n",
    "from sklearn.metrics import mean_squared_error, mean_absolute_error\n",
    "\n",
    "\n",
    "# XGBoost \n",
    "import xgboost as xgb\n",
    "# Linear Regression\n",
    "from sklearn.linear_model import LinearRegression"
   ]
  },
  {
   "cell_type": "code",
   "execution_count": 2,
   "metadata": {},
   "outputs": [],
   "source": [
    "# All data\n",
    "df = pd.read_csv('linear_all.csv')"
   ]
  },
  {
   "cell_type": "code",
   "execution_count": 3,
   "metadata": {},
   "outputs": [
    {
     "data": {
      "text/html": [
       "<div>\n",
       "<style scoped>\n",
       "    .dataframe tbody tr th:only-of-type {\n",
       "        vertical-align: middle;\n",
       "    }\n",
       "\n",
       "    .dataframe tbody tr th {\n",
       "        vertical-align: top;\n",
       "    }\n",
       "\n",
       "    .dataframe thead th {\n",
       "        text-align: right;\n",
       "    }\n",
       "</style>\n",
       "<table border=\"1\" class=\"dataframe\">\n",
       "  <thead>\n",
       "    <tr style=\"text-align: right;\">\n",
       "      <th></th>\n",
       "      <th>x</th>\n",
       "      <th>y</th>\n",
       "    </tr>\n",
       "  </thead>\n",
       "  <tbody>\n",
       "    <tr>\n",
       "      <th>0</th>\n",
       "      <td>0</td>\n",
       "      <td>12.412275</td>\n",
       "    </tr>\n",
       "    <tr>\n",
       "      <th>1</th>\n",
       "      <td>1</td>\n",
       "      <td>9.691298</td>\n",
       "    </tr>\n",
       "    <tr>\n",
       "      <th>2</th>\n",
       "      <td>2</td>\n",
       "      <td>42.307712</td>\n",
       "    </tr>\n",
       "    <tr>\n",
       "      <th>3</th>\n",
       "      <td>3</td>\n",
       "      <td>20.479079</td>\n",
       "    </tr>\n",
       "    <tr>\n",
       "      <th>4</th>\n",
       "      <td>4</td>\n",
       "      <td>29.096098</td>\n",
       "    </tr>\n",
       "  </tbody>\n",
       "</table>\n",
       "</div>"
      ],
      "text/plain": [
       "   x          y\n",
       "0  0  12.412275\n",
       "1  1   9.691298\n",
       "2  2  42.307712\n",
       "3  3  20.479079\n",
       "4  4  29.096098"
      ]
     },
     "execution_count": 3,
     "metadata": {},
     "output_type": "execute_result"
    }
   ],
   "source": [
    "df.head()"
   ]
  },
  {
   "cell_type": "code",
   "execution_count": 4,
   "metadata": {},
   "outputs": [
    {
     "data": {
      "image/png": "[encoded data removed]",
      "text/plain": [
       "<Figure size 432x288 with 1 Axes>"
      ]
     },
     "metadata": {
      "needs_background": "light"
     },
     "output_type": "display_data"
    }
   ],
   "source": [
    "plt.plot(df.x,df.y,label='Target')\n",
    "plt.grid(True)\n",
    "plt.xlabel('Input Feature')\n",
    "plt.ylabel('Target')\n",
    "plt.legend()\n",
    "plt.title('Simple Regression Dataset')\n",
    "plt.show()"
   ]
  },
  {
   "cell_type": "code",
   "execution_count": 5,
   "metadata": {},
   "outputs": [],
   "source": [
    "# Let's load Training and Validation Datasets\n",
    "train_file = 'linear_train.csv'\n",
    "validation_file = 'linear_validation.csv'\n",
    "\n",
    "# Specify the column names as the file does not have column header\n",
    "df_train = pd.read_csv(train_file,names=['y','x'])\n",
    "df_validation = pd.read_csv(validation_file,names=['y','x'])"
   ]
  },
  {
   "cell_type": "code",
   "execution_count": 6,
   "metadata": {},
   "outputs": [
    {
     "data": {
      "text/html": [
       "<div>\n",
       "<style scoped>\n",
       "    .dataframe tbody tr th:only-of-type {\n",
       "        vertical-align: middle;\n",
       "    }\n",
       "\n",
       "    .dataframe tbody tr th {\n",
       "        vertical-align: top;\n",
       "    }\n",
       "\n",
       "    .dataframe thead th {\n",
       "        text-align: right;\n",
       "    }\n",
       "</style>\n",
       "<table border=\"1\" class=\"dataframe\">\n",
       "  <thead>\n",
       "    <tr style=\"text-align: right;\">\n",
       "      <th></th>\n",
       "      <th>y</th>\n",
       "      <th>x</th>\n",
       "    </tr>\n",
       "  </thead>\n",
       "  <tbody>\n",
       "    <tr>\n",
       "      <th>0</th>\n",
       "      <td>425.457270</td>\n",
       "      <td>82</td>\n",
       "    </tr>\n",
       "    <tr>\n",
       "      <th>1</th>\n",
       "      <td>687.275162</td>\n",
       "      <td>134</td>\n",
       "    </tr>\n",
       "    <tr>\n",
       "      <th>2</th>\n",
       "      <td>554.643782</td>\n",
       "      <td>114</td>\n",
       "    </tr>\n",
       "    <tr>\n",
       "      <th>3</th>\n",
       "      <td>219.007382</td>\n",
       "      <td>42</td>\n",
       "    </tr>\n",
       "    <tr>\n",
       "      <th>4</th>\n",
       "      <td>560.269533</td>\n",
       "      <td>109</td>\n",
       "    </tr>\n",
       "  </tbody>\n",
       "</table>\n",
       "</div>"
      ],
      "text/plain": [
       "            y    x\n",
       "0  425.457270   82\n",
       "1  687.275162  134\n",
       "2  554.643782  114\n",
       "3  219.007382   42\n",
       "4  560.269533  109"
      ]
     },
     "execution_count": 6,
     "metadata": {},
     "output_type": "execute_result"
    }
   ],
   "source": [
    "df_train.head()"
   ]
  },
  {
   "cell_type": "code",
   "execution_count": 7,
   "metadata": {},
   "outputs": [
    {
     "data": {
      "text/html": [
       "<div>\n",
       "<style scoped>\n",
       "    .dataframe tbody tr th:only-of-type {\n",
       "        vertical-align: middle;\n",
       "    }\n",
       "\n",
       "    .dataframe tbody tr th {\n",
       "        vertical-align: top;\n",
       "    }\n",
       "\n",
       "    .dataframe thead th {\n",
       "        text-align: right;\n",
       "    }\n",
       "</style>\n",
       "<table border=\"1\" class=\"dataframe\">\n",
       "  <thead>\n",
       "    <tr style=\"text-align: right;\">\n",
       "      <th></th>\n",
       "      <th>y</th>\n",
       "      <th>x</th>\n",
       "    </tr>\n",
       "  </thead>\n",
       "  <tbody>\n",
       "    <tr>\n",
       "      <th>0</th>\n",
       "      <td>342.264067</td>\n",
       "      <td>67</td>\n",
       "    </tr>\n",
       "    <tr>\n",
       "      <th>1</th>\n",
       "      <td>60.951235</td>\n",
       "      <td>11</td>\n",
       "    </tr>\n",
       "    <tr>\n",
       "      <th>2</th>\n",
       "      <td>315.592889</td>\n",
       "      <td>62</td>\n",
       "    </tr>\n",
       "    <tr>\n",
       "      <th>3</th>\n",
       "      <td>700.097979</td>\n",
       "      <td>137</td>\n",
       "    </tr>\n",
       "    <tr>\n",
       "      <th>4</th>\n",
       "      <td>535.676139</td>\n",
       "      <td>108</td>\n",
       "    </tr>\n",
       "  </tbody>\n",
       "</table>\n",
       "</div>"
      ],
      "text/plain": [
       "            y    x\n",
       "0  342.264067   67\n",
       "1   60.951235   11\n",
       "2  315.592889   62\n",
       "3  700.097979  137\n",
       "4  535.676139  108"
      ]
     },
     "execution_count": 7,
     "metadata": {},
     "output_type": "execute_result"
    }
   ],
   "source": [
    "df_validation.head()"
   ]
  },
  {
   "cell_type": "code",
   "execution_count": 8,
   "metadata": {},
   "outputs": [
    {
     "data": {
      "image/png": "[encoded data removed]",
      "text/plain": [
       "<Figure size 432x288 with 1 Axes>"
      ]
     },
     "metadata": {
      "needs_background": "light"
     },
     "output_type": "display_data"
    }
   ],
   "source": [
    "plt.scatter(df_train.x,df_train.y,label='Training',marker='.')\n",
    "plt.scatter(df_validation.x,df_validation.y,label='Validation',marker='.')\n",
    "plt.grid(True)\n",
    "plt.xlabel('Input Feature')\n",
    "plt.ylabel('Target')\n",
    "plt.title('Simple Regression Dataset')\n",
    "plt.legend()\n",
    "plt.show()"
   ]
  },
  {
   "cell_type": "code",
   "execution_count": 9,
   "metadata": {},
   "outputs": [],
   "source": [
    "X_train = df_train.iloc[:,1:] # Features: 1st column onwards \n",
    "y_train = df_train.iloc[:,0].ravel() # Target: 0th column\n",
    "\n",
    "X_validation = df_validation.iloc[:,1:]\n",
    "y_validation = df_validation.iloc[:,0].ravel()"
   ]
  },
  {
   "cell_type": "code",
   "execution_count": 10,
   "metadata": {},
   "outputs": [],
   "source": [
    "# Create an instance of XGBoost Regressor\n",
    "# XGBoost Training Parameter Reference: \n",
    "#   https://github.com/dmlc/xgboost/blob/master/doc/parameter.md\n",
    "regressor = xgb.XGBRegressor()"
   ]
  },
  {
   "cell_type": "code",
   "execution_count": 11,
   "metadata": {},
   "outputs": [
    {
     "data": {
      "text/plain": [
       "XGBRegressor(base_score=None, booster=None, colsample_bylevel=None,\n",
       "             colsample_bynode=None, colsample_bytree=None, gamma=None,\n",
       "             gpu_id=None, importance_type='gain', interaction_constraints=None,\n",
       "             learning_rate=None, max_delta_step=None, max_depth=None,\n",
       "             min_child_weight=None, missing=nan, monotone_constraints=None,\n",
       "             n_estimators=100, n_jobs=None, num_parallel_tree=None,\n",
       "             random_state=None, reg_alpha=None, reg_lambda=None,\n",
       "             scale_pos_weight=None, subsample=None, tree_method=None,\n",
       "             validate_parameters=None, verbosity=None)"
      ]
     },
     "execution_count": 11,
     "metadata": {},
     "output_type": "execute_result"
    }
   ],
   "source": [
    "# Default Options\n",
    "regressor"
   ]
  },
  {
   "cell_type": "code",
   "execution_count": 12,
   "metadata": {},
   "outputs": [
    {
     "name": "stdout",
     "output_type": "stream",
     "text": [
      "[0]\tvalidation_0-rmse:312.59222\tvalidation_1-rmse:309.71130\n",
      "[1]\tvalidation_0-rmse:223.90628\tvalidation_1-rmse:221.75470\n",
      "[2]\tvalidation_0-rmse:160.90971\tvalidation_1-rmse:156.30206\n",
      "[3]\tvalidation_0-rmse:115.67703\tvalidation_1-rmse:111.37984\n",
      "[4]\tvalidation_0-rmse:83.50768\tvalidation_1-rmse:80.23268\n",
      "[5]\tvalidation_0-rmse:60.28321\tvalidation_1-rmse:56.99043\n",
      "[6]\tvalidation_0-rmse:43.79396\tvalidation_1-rmse:40.56110\n",
      "[7]\tvalidation_0-rmse:32.11387\tvalidation_1-rmse:29.46322\n",
      "[8]\tvalidation_0-rmse:23.79751\tvalidation_1-rmse:21.48173\n",
      "[9]\tvalidation_0-rmse:17.93956\tvalidation_1-rmse:16.86060\n",
      "[10]\tvalidation_0-rmse:13.83357\tvalidation_1-rmse:14.40190\n",
      "[11]\tvalidation_0-rmse:10.89259\tvalidation_1-rmse:13.18560\n",
      "[12]\tvalidation_0-rmse:8.73792\tvalidation_1-rmse:12.70564\n",
      "[13]\tvalidation_0-rmse:7.32471\tvalidation_1-rmse:12.86105\n",
      "[14]\tvalidation_0-rmse:6.22650\tvalidation_1-rmse:12.87767\n",
      "[15]\tvalidation_0-rmse:5.58807\tvalidation_1-rmse:13.13437\n",
      "[16]\tvalidation_0-rmse:5.02747\tvalidation_1-rmse:13.03502\n",
      "[17]\tvalidation_0-rmse:4.58230\tvalidation_1-rmse:13.06587\n",
      "[18]\tvalidation_0-rmse:4.25840\tvalidation_1-rmse:13.16091\n",
      "[19]\tvalidation_0-rmse:4.02088\tvalidation_1-rmse:13.20965\n",
      "[20]\tvalidation_0-rmse:3.83337\tvalidation_1-rmse:13.36338\n",
      "[21]\tvalidation_0-rmse:3.57168\tvalidation_1-rmse:13.49237\n",
      "[22]\tvalidation_0-rmse:3.36921\tvalidation_1-rmse:13.62991\n",
      "[23]\tvalidation_0-rmse:3.22752\tvalidation_1-rmse:13.75530\n",
      "[24]\tvalidation_0-rmse:3.09152\tvalidation_1-rmse:13.81823\n",
      "[25]\tvalidation_0-rmse:2.97103\tvalidation_1-rmse:13.82356\n",
      "[26]\tvalidation_0-rmse:2.82581\tvalidation_1-rmse:13.91419\n",
      "[27]\tvalidation_0-rmse:2.75075\tvalidation_1-rmse:13.99817\n",
      "[28]\tvalidation_0-rmse:2.66672\tvalidation_1-rmse:14.03056\n",
      "[29]\tvalidation_0-rmse:2.64305\tvalidation_1-rmse:14.06679\n",
      "[30]\tvalidation_0-rmse:2.61180\tvalidation_1-rmse:14.08419\n",
      "[31]\tvalidation_0-rmse:2.55397\tvalidation_1-rmse:14.14185\n",
      "[32]\tvalidation_0-rmse:2.43906\tvalidation_1-rmse:14.21921\n",
      "[33]\tvalidation_0-rmse:2.31654\tvalidation_1-rmse:14.26301\n",
      "[34]\tvalidation_0-rmse:2.29145\tvalidation_1-rmse:14.30315\n",
      "[35]\tvalidation_0-rmse:2.19485\tvalidation_1-rmse:14.33316\n",
      "[36]\tvalidation_0-rmse:2.14014\tvalidation_1-rmse:14.38448\n",
      "[37]\tvalidation_0-rmse:2.07183\tvalidation_1-rmse:14.35956\n",
      "[38]\tvalidation_0-rmse:1.95956\tvalidation_1-rmse:14.41703\n",
      "[39]\tvalidation_0-rmse:1.88531\tvalidation_1-rmse:14.43918\n",
      "[40]\tvalidation_0-rmse:1.86735\tvalidation_1-rmse:14.47057\n",
      "[41]\tvalidation_0-rmse:1.82048\tvalidation_1-rmse:14.50962\n",
      "[42]\tvalidation_0-rmse:1.78803\tvalidation_1-rmse:14.50232\n",
      "[43]\tvalidation_0-rmse:1.69333\tvalidation_1-rmse:14.55050\n",
      "[44]\tvalidation_0-rmse:1.62249\tvalidation_1-rmse:14.56791\n",
      "[45]\tvalidation_0-rmse:1.59631\tvalidation_1-rmse:14.56281\n",
      "[46]\tvalidation_0-rmse:1.58324\tvalidation_1-rmse:14.58330\n",
      "[47]\tvalidation_0-rmse:1.52950\tvalidation_1-rmse:14.59688\n",
      "[48]\tvalidation_0-rmse:1.46826\tvalidation_1-rmse:14.62189\n",
      "[49]\tvalidation_0-rmse:1.40424\tvalidation_1-rmse:14.65027\n",
      "[50]\tvalidation_0-rmse:1.38862\tvalidation_1-rmse:14.65419\n",
      "[51]\tvalidation_0-rmse:1.34541\tvalidation_1-rmse:14.66677\n",
      "[52]\tvalidation_0-rmse:1.29872\tvalidation_1-rmse:14.69935\n",
      "[53]\tvalidation_0-rmse:1.26157\tvalidation_1-rmse:14.72340\n",
      "[54]\tvalidation_0-rmse:1.24904\tvalidation_1-rmse:14.73585\n",
      "[55]\tvalidation_0-rmse:1.19405\tvalidation_1-rmse:14.75435\n",
      "[56]\tvalidation_0-rmse:1.15900\tvalidation_1-rmse:14.77241\n",
      "[57]\tvalidation_0-rmse:1.14578\tvalidation_1-rmse:14.77590\n",
      "[58]\tvalidation_0-rmse:1.10874\tvalidation_1-rmse:14.78746\n",
      "[59]\tvalidation_0-rmse:1.09985\tvalidation_1-rmse:14.79944\n",
      "[60]\tvalidation_0-rmse:1.06107\tvalidation_1-rmse:14.80253\n",
      "[61]\tvalidation_0-rmse:1.04570\tvalidation_1-rmse:14.80491\n",
      "[62]\tvalidation_0-rmse:1.01881\tvalidation_1-rmse:14.82609\n",
      "[63]\tvalidation_0-rmse:0.98739\tvalidation_1-rmse:14.84663\n",
      "[64]\tvalidation_0-rmse:0.95160\tvalidation_1-rmse:14.85792\n",
      "[65]\tvalidation_0-rmse:0.91730\tvalidation_1-rmse:14.86138\n",
      "[66]\tvalidation_0-rmse:0.89162\tvalidation_1-rmse:14.87062\n",
      "[67]\tvalidation_0-rmse:0.88262\tvalidation_1-rmse:14.87350\n",
      "[68]\tvalidation_0-rmse:0.85606\tvalidation_1-rmse:14.88405\n",
      "[69]\tvalidation_0-rmse:0.83039\tvalidation_1-rmse:14.90555\n",
      "[70]\tvalidation_0-rmse:0.80217\tvalidation_1-rmse:14.90871\n",
      "[71]\tvalidation_0-rmse:0.79483\tvalidation_1-rmse:14.91097\n",
      "[72]\tvalidation_0-rmse:0.76935\tvalidation_1-rmse:14.91671\n",
      "[73]\tvalidation_0-rmse:0.74789\tvalidation_1-rmse:14.92586\n",
      "[74]\tvalidation_0-rmse:0.71865\tvalidation_1-rmse:14.94531\n",
      "[75]\tvalidation_0-rmse:0.69811\tvalidation_1-rmse:14.96310\n",
      "[76]\tvalidation_0-rmse:0.67721\tvalidation_1-rmse:14.96298\n",
      "[77]\tvalidation_0-rmse:0.66666\tvalidation_1-rmse:14.96477\n",
      "[78]\tvalidation_0-rmse:0.65925\tvalidation_1-rmse:14.97117\n",
      "[79]\tvalidation_0-rmse:0.63809\tvalidation_1-rmse:14.97066\n",
      "[80]\tvalidation_0-rmse:0.62310\tvalidation_1-rmse:14.98477\n",
      "[81]\tvalidation_0-rmse:0.61763\tvalidation_1-rmse:14.98919\n",
      "[82]\tvalidation_0-rmse:0.60214\tvalidation_1-rmse:14.99254\n",
      "[83]\tvalidation_0-rmse:0.59266\tvalidation_1-rmse:15.00203\n",
      "[84]\tvalidation_0-rmse:0.57398\tvalidation_1-rmse:15.00881\n",
      "[85]\tvalidation_0-rmse:0.56816\tvalidation_1-rmse:15.01047\n",
      "[86]\tvalidation_0-rmse:0.54846\tvalidation_1-rmse:15.01283\n",
      "[87]\tvalidation_0-rmse:0.53247\tvalidation_1-rmse:15.01265\n",
      "[88]\tvalidation_0-rmse:0.51886\tvalidation_1-rmse:15.01920\n",
      "[89]\tvalidation_0-rmse:0.50600\tvalidation_1-rmse:15.01966\n",
      "[90]\tvalidation_0-rmse:0.48054\tvalidation_1-rmse:15.02951\n",
      "[91]\tvalidation_0-rmse:0.46820\tvalidation_1-rmse:15.02980\n",
      "[92]\tvalidation_0-rmse:0.46465\tvalidation_1-rmse:15.03104\n",
      "[93]\tvalidation_0-rmse:0.46061\tvalidation_1-rmse:15.03510\n",
      "[94]\tvalidation_0-rmse:0.44996\tvalidation_1-rmse:15.04098\n",
      "[95]\tvalidation_0-rmse:0.43824\tvalidation_1-rmse:15.05033\n",
      "[96]\tvalidation_0-rmse:0.43266\tvalidation_1-rmse:15.05148\n",
      "[97]\tvalidation_0-rmse:0.41700\tvalidation_1-rmse:15.05335\n",
      "[98]\tvalidation_0-rmse:0.40495\tvalidation_1-rmse:15.05614\n",
      "[99]\tvalidation_0-rmse:0.39714\tvalidation_1-rmse:15.06363\n"
     ]
    },
    {
     "data": {
      "text/plain": [
       "XGBRegressor(base_score=0.5, booster='gbtree', colsample_bylevel=1,\n",
       "             colsample_bynode=1, colsample_bytree=1, gamma=0, gpu_id=-1,\n",
       "             importance_type='gain', interaction_constraints='',\n",
       "             learning_rate=0.300000012, max_delta_step=0, max_depth=6,\n",
       "             min_child_weight=1, missing=nan, monotone_constraints='()',\n",
       "             n_estimators=100, n_jobs=0, num_parallel_tree=1, random_state=0,\n",
       "             reg_alpha=0, reg_lambda=1, scale_pos_weight=1, subsample=1,\n",
       "             tree_method='exact', validate_parameters=1, verbosity=None)"
      ]
     },
     "execution_count": 12,
     "metadata": {},
     "output_type": "execute_result"
    }
   ],
   "source": [
    "# Train the model\n",
    "# Provide Training Dataset and Validation Dataset\n",
    "# XGBoost reports training and validation error\n",
    "regressor.fit(X_train,y_train, eval_set = [(X_train, y_train), (X_validation, y_validation)])"
   ]
  },
  {
   "cell_type": "code",
   "execution_count": 13,
   "metadata": {},
   "outputs": [],
   "source": [
    "# Get the Training RMSE and Evaluation RMSE\n",
    "eval_result = regressor.evals_result()"
   ]
  },
  {
   "cell_type": "code",
   "execution_count": 14,
   "metadata": {},
   "outputs": [
    {
     "data": {
      "text/plain": [
       "{'validation_0': {'rmse': [312.592224,\n",
       "   223.906281,\n",
       "   160.909714,\n",
       "   115.677025,\n",
       "   83.507683,\n",
       "   60.283207,\n",
       "   43.793957,\n",
       "   32.113873,\n",
       "   23.797514,\n",
       "   17.939562,\n",
       "   13.833573,\n",
       "   10.892591,\n",
       "   8.737917,\n",
       "   7.324714,\n",
       "   6.226497,\n",
       "   5.588069,\n",
       "   5.027468,\n",
       "   4.582295,\n",
       "   4.258395,\n",
       "   4.020878,\n",
       "   3.833373,\n",
       "   3.571678,\n",
       "   3.369205,\n",
       "   3.227522,\n",
       "   3.091522,\n",
       "   2.971028,\n",
       "   2.825808,\n",
       "   2.750748,\n",
       "   2.66672,\n",
       "   2.643051,\n",
       "   2.611804,\n",
       "   2.553968,\n",
       "   2.439063,\n",
       "   2.31654,\n",
       "   2.291446,\n",
       "   2.194853,\n",
       "   2.140137,\n",
       "   2.071828,\n",
       "   1.959563,\n",
       "   1.885308,\n",
       "   1.867349,\n",
       "   1.820478,\n",
       "   1.788032,\n",
       "   1.693326,\n",
       "   1.622491,\n",
       "   1.596306,\n",
       "   1.583241,\n",
       "   1.529503,\n",
       "   1.468257,\n",
       "   1.404238,\n",
       "   1.388616,\n",
       "   1.345412,\n",
       "   1.298715,\n",
       "   1.261568,\n",
       "   1.249043,\n",
       "   1.194046,\n",
       "   1.159002,\n",
       "   1.14578,\n",
       "   1.108737,\n",
       "   1.099851,\n",
       "   1.061069,\n",
       "   1.045704,\n",
       "   1.018807,\n",
       "   0.98739,\n",
       "   0.951604,\n",
       "   0.917303,\n",
       "   0.891618,\n",
       "   0.882622,\n",
       "   0.856064,\n",
       "   0.830393,\n",
       "   0.80217,\n",
       "   0.794831,\n",
       "   0.769352,\n",
       "   0.747886,\n",
       "   0.71865,\n",
       "   0.698108,\n",
       "   0.677213,\n",
       "   0.666659,\n",
       "   0.659249,\n",
       "   0.638093,\n",
       "   0.623104,\n",
       "   0.617632,\n",
       "   0.602143,\n",
       "   0.592657,\n",
       "   0.573982,\n",
       "   0.56816,\n",
       "   0.548462,\n",
       "   0.532466,\n",
       "   0.518863,\n",
       "   0.506,\n",
       "   0.480539,\n",
       "   0.468197,\n",
       "   0.464653,\n",
       "   0.460608,\n",
       "   0.449958,\n",
       "   0.438242,\n",
       "   0.432655,\n",
       "   0.417001,\n",
       "   0.404954,\n",
       "   0.39714]},\n",
       " 'validation_1': {'rmse': [309.711304,\n",
       "   221.7547,\n",
       "   156.302063,\n",
       "   111.379837,\n",
       "   80.232681,\n",
       "   56.990425,\n",
       "   40.561096,\n",
       "   29.463221,\n",
       "   21.481726,\n",
       "   16.8606,\n",
       "   14.401902,\n",
       "   13.185601,\n",
       "   12.705642,\n",
       "   12.861048,\n",
       "   12.877671,\n",
       "   13.13437,\n",
       "   13.035022,\n",
       "   13.06587,\n",
       "   13.160913,\n",
       "   13.209648,\n",
       "   13.363376,\n",
       "   13.49237,\n",
       "   13.629909,\n",
       "   13.755301,\n",
       "   13.818233,\n",
       "   13.823555,\n",
       "   13.914188,\n",
       "   13.998169,\n",
       "   14.03056,\n",
       "   14.066791,\n",
       "   14.08419,\n",
       "   14.141853,\n",
       "   14.219211,\n",
       "   14.263006,\n",
       "   14.303151,\n",
       "   14.333162,\n",
       "   14.384485,\n",
       "   14.359563,\n",
       "   14.417027,\n",
       "   14.439178,\n",
       "   14.470574,\n",
       "   14.509623,\n",
       "   14.502323,\n",
       "   14.550501,\n",
       "   14.567915,\n",
       "   14.562809,\n",
       "   14.583297,\n",
       "   14.59688,\n",
       "   14.621893,\n",
       "   14.650267,\n",
       "   14.654193,\n",
       "   14.666775,\n",
       "   14.699347,\n",
       "   14.723395,\n",
       "   14.735849,\n",
       "   14.754352,\n",
       "   14.772409,\n",
       "   14.775899,\n",
       "   14.787459,\n",
       "   14.799438,\n",
       "   14.802527,\n",
       "   14.804908,\n",
       "   14.826087,\n",
       "   14.846627,\n",
       "   14.857918,\n",
       "   14.861378,\n",
       "   14.87062,\n",
       "   14.873505,\n",
       "   14.884046,\n",
       "   14.905554,\n",
       "   14.908706,\n",
       "   14.910966,\n",
       "   14.916712,\n",
       "   14.925862,\n",
       "   14.945309,\n",
       "   14.9631,\n",
       "   14.962978,\n",
       "   14.964768,\n",
       "   14.971169,\n",
       "   14.970663,\n",
       "   14.98477,\n",
       "   14.989189,\n",
       "   14.992544,\n",
       "   15.002035,\n",
       "   15.008814,\n",
       "   15.010473,\n",
       "   15.012834,\n",
       "   15.012652,\n",
       "   15.019197,\n",
       "   15.019663,\n",
       "   15.02951,\n",
       "   15.029805,\n",
       "   15.031043,\n",
       "   15.035095,\n",
       "   15.040981,\n",
       "   15.05033,\n",
       "   15.051477,\n",
       "   15.053346,\n",
       "   15.056138,\n",
       "   15.063628]}}"
      ]
     },
     "execution_count": 14,
     "metadata": {},
     "output_type": "execute_result"
    }
   ],
   "source": [
    "eval_result"
   ]
  },
  {
   "cell_type": "code",
   "execution_count": 15,
   "metadata": {},
   "outputs": [],
   "source": [
    "training_rounds = range(len(eval_result['validation_0']['rmse']))"
   ]
  },
  {
   "cell_type": "code",
   "execution_count": 16,
   "metadata": {},
   "outputs": [
    {
     "name": "stdout",
     "output_type": "stream",
     "text": [
      "range(0, 100)\n"
     ]
    }
   ],
   "source": [
    "print(training_rounds)"
   ]
  },
  {
   "cell_type": "code",
   "execution_count": 17,
   "metadata": {},
   "outputs": [
    {
     "data": {
      "image/png": "[encoded data removed]",
      "text/plain": [
       "<Figure size 432x288 with 1 Axes>"
      ]
     },
     "metadata": {
      "needs_background": "light"
     },
     "output_type": "display_data"
    }
   ],
   "source": [
    "plt.scatter(x=training_rounds,y=eval_result['validation_0']['rmse'],label='Training Error')\n",
    "plt.scatter(x=training_rounds,y=eval_result['validation_1']['rmse'],label='Validation Error')\n",
    "plt.grid(True)\n",
    "plt.xlabel('Iterations')\n",
    "plt.ylabel('RMSE')\n",
    "plt.title('XGBoost Training Vs Validation Error')\n",
    "plt.legend()\n",
    "plt.show()"
   ]
  },
  {
   "cell_type": "code",
   "execution_count": 18,
   "metadata": {},
   "outputs": [
    {
     "data": {
      "image/png": "[encoded data removed]",
      "text/plain": [
       "<Figure size 432x288 with 1 Axes>"
      ]
     },
     "metadata": {
      "needs_background": "light"
     },
     "output_type": "display_data"
    }
   ],
   "source": [
    "xgb.plot_importance(regressor)\n",
    "plt.show()"
   ]
  },
  {
   "cell_type": "markdown",
   "metadata": {},
   "source": [
    "## Validation Dataset Compare Actual and Predicted"
   ]
  },
  {
   "cell_type": "code",
   "execution_count": 19,
   "metadata": {},
   "outputs": [],
   "source": [
    "result = regressor.predict(X_validation)"
   ]
  },
  {
   "cell_type": "code",
   "execution_count": 20,
   "metadata": {},
   "outputs": [
    {
     "data": {
      "text/plain": [
       "array([350.00354,  64.40639, 314.84644, 705.8229 , 560.227  ],\n",
       "      dtype=float32)"
      ]
     },
     "execution_count": 20,
     "metadata": {},
     "output_type": "execute_result"
    }
   ],
   "source": [
    "result[:5]"
   ]
  },
  {
   "cell_type": "code",
   "execution_count": 21,
   "metadata": {},
   "outputs": [
    {
     "data": {
      "image/png": "[encoded data removed]",
      "text/plain": [
       "<Figure size 432x288 with 1 Axes>"
      ]
     },
     "metadata": {
      "needs_background": "light"
     },
     "output_type": "display_data"
    }
   ],
   "source": [
    "plt.title('XGBoost - Validation Dataset')\n",
    "plt.scatter(df_validation.x,df_validation.y,label='actual',marker='.')\n",
    "plt.scatter(df_validation.x,result,label='predicted',marker='.')\n",
    "plt.grid(True)\n",
    "plt.legend()\n",
    "plt.show()"
   ]
  },
  {
   "cell_type": "code",
   "execution_count": 22,
   "metadata": {},
   "outputs": [
    {
     "name": "stdout",
     "output_type": "stream",
     "text": [
      "XGBoost Algorithm Metrics\n",
      " Mean Squared Error: 226.91\n",
      " Root Mean Square Error: 15.06\n"
     ]
    }
   ],
   "source": [
    "# RMSE Metrics\n",
    "print('XGBoost Algorithm Metrics')\n",
    "mse = mean_squared_error(df_validation.y,result)\n",
    "print(\" Mean Squared Error: {0:.2f}\".format(mse))\n",
    "print(\" Root Mean Square Error: {0:.2f}\".format(mse**.5))"
   ]
  },
  {
   "cell_type": "code",
   "execution_count": 23,
   "metadata": {},
   "outputs": [
    {
     "data": {
      "image/png": "[encoded data removed]",
      "text/plain": [
       "<Figure size 432x288 with 1 Axes>"
      ]
     },
     "metadata": {
      "needs_background": "light"
     },
     "output_type": "display_data"
    }
   ],
   "source": [
    "# Residual\n",
    "# Over prediction and Under Prediction needs to be balanced\n",
    "# Training Data Residuals\n",
    "residuals = df_validation.y - result\n",
    "plt.hist(residuals)\n",
    "plt.grid(True)\n",
    "plt.xlabel('Actual - Predicted')\n",
    "plt.ylabel('Count')\n",
    "plt.title('XGBoost Residual')\n",
    "plt.axvline(color='r')\n",
    "plt.show()"
   ]
  },
  {
   "cell_type": "code",
   "execution_count": 24,
   "metadata": {},
   "outputs": [
    {
     "name": "stdout",
     "output_type": "stream",
     "text": [
      " Under Estimation: 22\n",
      " Over  Estimation: 23\n"
     ]
    }
   ],
   "source": [
    "# Count number of values greater than zero and less than zero\n",
    "value_counts = (residuals > 0).value_counts(sort=False)\n",
    "\n",
    "print(' Under Estimation: {0}'.format(value_counts[True]))\n",
    "print(' Over  Estimation: {0}'.format(value_counts[False]))"
   ]
  },
  {
   "cell_type": "code",
   "execution_count": 25,
   "metadata": {},
   "outputs": [
    {
     "data": {
      "image/png": "[encoded data removed]",
      "text/plain": [
       "<Figure size 432x288 with 1 Axes>"
      ]
     },
     "metadata": {
      "needs_background": "light"
     },
     "output_type": "display_data"
    }
   ],
   "source": [
    "# Plot for entire dataset\n",
    "plt.plot(df.x,df.y,label='Target')\n",
    "plt.plot(df.x,regressor.predict(df[['x']]) ,label='Predicted')\n",
    "plt.grid(True)\n",
    "plt.xlabel('Input Feature')\n",
    "plt.ylabel('Target')\n",
    "plt.legend()\n",
    "plt.title('XGBoost')\n",
    "plt.show()"
   ]
  },
  {
   "cell_type": "markdown",
   "metadata": {},
   "source": [
    "## Linear Regression Algorithm "
   ]
  },
  {
   "cell_type": "code",
   "execution_count": 26,
   "metadata": {},
   "outputs": [],
   "source": [
    "lin_regressor = LinearRegression()"
   ]
  },
  {
   "cell_type": "code",
   "execution_count": 27,
   "metadata": {},
   "outputs": [
    {
     "data": {
      "text/plain": [
       "LinearRegression()"
      ]
     },
     "execution_count": 27,
     "metadata": {},
     "output_type": "execute_result"
    }
   ],
   "source": [
    "lin_regressor.fit(X_train,y_train)"
   ]
  },
  {
   "cell_type": "markdown",
   "metadata": {},
   "source": [
    "Compare Weights assigned by Linear Regression.\n",
    "\n",
    "Original Function: 5*x + 8 + some noise\n"
   ]
  },
  {
   "cell_type": "code",
   "execution_count": 28,
   "metadata": {},
   "outputs": [
    {
     "data": {
      "text/plain": [
       "array([4.99777227])"
      ]
     },
     "execution_count": 28,
     "metadata": {},
     "output_type": "execute_result"
    }
   ],
   "source": [
    "lin_regressor.coef_"
   ]
  },
  {
   "cell_type": "code",
   "execution_count": 29,
   "metadata": {},
   "outputs": [
    {
     "data": {
      "text/plain": [
       "8.683965388503225"
      ]
     },
     "execution_count": 29,
     "metadata": {},
     "output_type": "execute_result"
    }
   ],
   "source": [
    "lin_regressor.intercept_"
   ]
  },
  {
   "cell_type": "code",
   "execution_count": 30,
   "metadata": {},
   "outputs": [],
   "source": [
    "result = lin_regressor.predict(df_validation[['x']])"
   ]
  },
  {
   "cell_type": "code",
   "execution_count": 31,
   "metadata": {},
   "outputs": [
    {
     "data": {
      "image/png": "[encoded data removed]",
      "text/plain": [
       "<Figure size 432x288 with 1 Axes>"
      ]
     },
     "metadata": {
      "needs_background": "light"
     },
     "output_type": "display_data"
    }
   ],
   "source": [
    "plt.title('LinearRegression - Validation Dataset')\n",
    "plt.scatter(df_validation.x,df_validation.y,label='actual',marker='.')\n",
    "plt.scatter(df_validation.x,result,label='predicted',marker='.')\n",
    "plt.grid(True)\n",
    "plt.legend()\n",
    "plt.show()"
   ]
  },
  {
   "cell_type": "code",
   "execution_count": 32,
   "metadata": {},
   "outputs": [
    {
     "name": "stdout",
     "output_type": "stream",
     "text": [
      "Linear Regression Metrics\n",
      " Mean Squared Error: 99.10\n",
      " Root Mean Square Error: 9.95\n"
     ]
    }
   ],
   "source": [
    "# RMSE Metrics\n",
    "print('Linear Regression Metrics')\n",
    "mse = mean_squared_error(df_validation.y,result)\n",
    "print(\" Mean Squared Error: {0:.2f}\".format(mse))\n",
    "print(\" Root Mean Square Error: {0:.2f}\".format(mse**.5))"
   ]
  },
  {
   "cell_type": "code",
   "execution_count": 33,
   "metadata": {},
   "outputs": [
    {
     "data": {
      "image/png": "[encoded data removed]",
      "text/plain": [
       "<Figure size 432x288 with 1 Axes>"
      ]
     },
     "metadata": {
      "needs_background": "light"
     },
     "output_type": "display_data"
    }
   ],
   "source": [
    "# Residual\n",
    "# Over prediction and Under Prediction needs to be balanced\n",
    "# Training Data Residuals\n",
    "residuals = df_validation.y - result\n",
    "plt.hist(residuals)\n",
    "plt.grid(True)\n",
    "plt.xlabel('Actual - Predicted')\n",
    "plt.ylabel('Count')\n",
    "plt.title('Linear Regression Residual')\n",
    "plt.axvline(color='r')\n",
    "plt.show()"
   ]
  },
  {
   "cell_type": "code",
   "execution_count": 34,
   "metadata": {},
   "outputs": [
    {
     "name": "stdout",
     "output_type": "stream",
     "text": [
      " Under Estimation: 24\n",
      " Over  Estimation: 21\n"
     ]
    }
   ],
   "source": [
    "# Count number of values greater than zero and less than zero\n",
    "value_counts = (residuals > 0).value_counts(sort=False)\n",
    "\n",
    "print(' Under Estimation: {0}'.format(value_counts[True]))\n",
    "print(' Over  Estimation: {0}'.format(value_counts[False]))"
   ]
  },
  {
   "cell_type": "code",
   "execution_count": 35,
   "metadata": {},
   "outputs": [
    {
     "data": {
      "image/png": "[encoded data removed]",
      "text/plain": [
       "<Figure size 432x288 with 1 Axes>"
      ]
     },
     "metadata": {
      "needs_background": "light"
     },
     "output_type": "display_data"
    }
   ],
   "source": [
    "# Plot for entire dataset\n",
    "plt.plot(df.x,df.y,label='Target')\n",
    "plt.plot(df.x,lin_regressor.predict(df[['x']]) ,label='Predicted')\n",
    "plt.grid(True)\n",
    "plt.xlabel('Input Feature')\n",
    "plt.ylabel('Target')\n",
    "plt.legend()\n",
    "plt.title('LinearRegression')\n",
    "plt.show()"
   ]
  },
  {
   "cell_type": "markdown",
   "metadata": {},
   "source": [
    "<h2>Input Features - Outside range used for training</h2>\n",
    "\n",
    "XGBoost Prediction has an upper and lower bound (applies to tree based algorithms)\n",
    "\n",
    "Linear Regression extrapolates"
   ]
  },
  {
   "cell_type": "code",
   "execution_count": 36,
   "metadata": {},
   "outputs": [],
   "source": [
    "# True Function\n",
    "def straight_line(x):\n",
    "    return 5*x + 8"
   ]
  },
  {
   "cell_type": "code",
   "execution_count": 37,
   "metadata": {},
   "outputs": [],
   "source": [
    "# X is outside range of training samples\n",
    "X = np.array([-100,-5,160,1000,5000])\n",
    "y = straight_line(X)\n",
    "\n",
    "df_tmp = pd.DataFrame({'x':X,'y':y})\n",
    "df_tmp['xgboost']=regressor.predict(df_tmp[['x']])\n",
    "df_tmp['linear']=lin_regressor.predict(df_tmp[['x']])"
   ]
  },
  {
   "cell_type": "code",
   "execution_count": 38,
   "metadata": {},
   "outputs": [
    {
     "data": {
      "text/html": [
       "<div>\n",
       "<style scoped>\n",
       "    .dataframe tbody tr th:only-of-type {\n",
       "        vertical-align: middle;\n",
       "    }\n",
       "\n",
       "    .dataframe tbody tr th {\n",
       "        vertical-align: top;\n",
       "    }\n",
       "\n",
       "    .dataframe thead th {\n",
       "        text-align: right;\n",
       "    }\n",
       "</style>\n",
       "<table border=\"1\" class=\"dataframe\">\n",
       "  <thead>\n",
       "    <tr style=\"text-align: right;\">\n",
       "      <th></th>\n",
       "      <th>x</th>\n",
       "      <th>y</th>\n",
       "      <th>xgboost</th>\n",
       "      <th>linear</th>\n",
       "    </tr>\n",
       "  </thead>\n",
       "  <tbody>\n",
       "    <tr>\n",
       "      <th>0</th>\n",
       "      <td>-100</td>\n",
       "      <td>-492</td>\n",
       "      <td>9.905086</td>\n",
       "      <td>-491.093262</td>\n",
       "    </tr>\n",
       "    <tr>\n",
       "      <th>1</th>\n",
       "      <td>-5</td>\n",
       "      <td>-17</td>\n",
       "      <td>9.905086</td>\n",
       "      <td>-16.304896</td>\n",
       "    </tr>\n",
       "    <tr>\n",
       "      <th>2</th>\n",
       "      <td>160</td>\n",
       "      <td>808</td>\n",
       "      <td>739.950562</td>\n",
       "      <td>808.327528</td>\n",
       "    </tr>\n",
       "    <tr>\n",
       "      <th>3</th>\n",
       "      <td>1000</td>\n",
       "      <td>5008</td>\n",
       "      <td>739.950562</td>\n",
       "      <td>5006.456235</td>\n",
       "    </tr>\n",
       "    <tr>\n",
       "      <th>4</th>\n",
       "      <td>5000</td>\n",
       "      <td>25008</td>\n",
       "      <td>739.950562</td>\n",
       "      <td>24997.545312</td>\n",
       "    </tr>\n",
       "  </tbody>\n",
       "</table>\n",
       "</div>"
      ],
      "text/plain": [
       "      x      y     xgboost        linear\n",
       "0  -100   -492    9.905086   -491.093262\n",
       "1    -5    -17    9.905086    -16.304896\n",
       "2   160    808  739.950562    808.327528\n",
       "3  1000   5008  739.950562   5006.456235\n",
       "4  5000  25008  739.950562  24997.545312"
      ]
     },
     "execution_count": 38,
     "metadata": {},
     "output_type": "execute_result"
    }
   ],
   "source": [
    "df_tmp"
   ]
  },
  {
   "cell_type": "code",
   "execution_count": 39,
   "metadata": {},
   "outputs": [
    {
     "data": {
      "image/png": "[encoded data removed]",
      "text/plain": [
       "<Figure size 432x288 with 1 Axes>"
      ]
     },
     "metadata": {
      "needs_background": "light"
     },
     "output_type": "display_data"
    }
   ],
   "source": [
    "# XGBoost Predictions have an upper bound and lower bound\n",
    "# Linear Regression Extrapolates\n",
    "plt.scatter(df_tmp.x,df_tmp.y,label='Actual',color='r')\n",
    "plt.plot(df_tmp.x,df_tmp.linear,label='LinearRegression')\n",
    "plt.plot(df_tmp.x,df_tmp.xgboost,label='XGBoost')\n",
    "plt.legend()\n",
    "plt.xlabel('X')\n",
    "plt.ylabel('y')\n",
    "plt.title('Input Outside Range')\n",
    "plt.show()"
   ]
  },
  {
   "cell_type": "code",
   "execution_count": 40,
   "metadata": {},
   "outputs": [],
   "source": [
    "# X is inside range of training samples\n",
    "X = np.array([0,1,3,5,7,9,11,15,18,125])\n",
    "y = straight_line(X)\n",
    "\n",
    "df_tmp = pd.DataFrame({'x':X,'y':y})\n",
    "df_tmp['xgboost']=regressor.predict(df_tmp[['x']])\n",
    "df_tmp['linear']=lin_regressor.predict(df_tmp[['x']])"
   ]
  },
  {
   "cell_type": "code",
   "execution_count": 41,
   "metadata": {},
   "outputs": [
    {
     "data": {
      "text/html": [
       "<div>\n",
       "<style scoped>\n",
       "    .dataframe tbody tr th:only-of-type {\n",
       "        vertical-align: middle;\n",
       "    }\n",
       "\n",
       "    .dataframe tbody tr th {\n",
       "        vertical-align: top;\n",
       "    }\n",
       "\n",
       "    .dataframe thead th {\n",
       "        text-align: right;\n",
       "    }\n",
       "</style>\n",
       "<table border=\"1\" class=\"dataframe\">\n",
       "  <thead>\n",
       "    <tr style=\"text-align: right;\">\n",
       "      <th></th>\n",
       "      <th>x</th>\n",
       "      <th>y</th>\n",
       "      <th>xgboost</th>\n",
       "      <th>linear</th>\n",
       "    </tr>\n",
       "  </thead>\n",
       "  <tbody>\n",
       "    <tr>\n",
       "      <th>0</th>\n",
       "      <td>0</td>\n",
       "      <td>8</td>\n",
       "      <td>9.905086</td>\n",
       "      <td>8.683965</td>\n",
       "    </tr>\n",
       "    <tr>\n",
       "      <th>1</th>\n",
       "      <td>1</td>\n",
       "      <td>13</td>\n",
       "      <td>9.905086</td>\n",
       "      <td>13.681738</td>\n",
       "    </tr>\n",
       "    <tr>\n",
       "      <th>2</th>\n",
       "      <td>3</td>\n",
       "      <td>23</td>\n",
       "      <td>20.523394</td>\n",
       "      <td>23.677282</td>\n",
       "    </tr>\n",
       "    <tr>\n",
       "      <th>3</th>\n",
       "      <td>5</td>\n",
       "      <td>33</td>\n",
       "      <td>28.935297</td>\n",
       "      <td>33.672827</td>\n",
       "    </tr>\n",
       "    <tr>\n",
       "      <th>4</th>\n",
       "      <td>7</td>\n",
       "      <td>43</td>\n",
       "      <td>28.935297</td>\n",
       "      <td>43.668371</td>\n",
       "    </tr>\n",
       "    <tr>\n",
       "      <th>5</th>\n",
       "      <td>9</td>\n",
       "      <td>53</td>\n",
       "      <td>49.514168</td>\n",
       "      <td>53.663916</td>\n",
       "    </tr>\n",
       "    <tr>\n",
       "      <th>6</th>\n",
       "      <td>11</td>\n",
       "      <td>63</td>\n",
       "      <td>64.406387</td>\n",
       "      <td>63.659460</td>\n",
       "    </tr>\n",
       "    <tr>\n",
       "      <th>7</th>\n",
       "      <td>15</td>\n",
       "      <td>83</td>\n",
       "      <td>75.930733</td>\n",
       "      <td>83.650549</td>\n",
       "    </tr>\n",
       "    <tr>\n",
       "      <th>8</th>\n",
       "      <td>18</td>\n",
       "      <td>98</td>\n",
       "      <td>111.305298</td>\n",
       "      <td>98.643866</td>\n",
       "    </tr>\n",
       "    <tr>\n",
       "      <th>9</th>\n",
       "      <td>125</td>\n",
       "      <td>633</td>\n",
       "      <td>633.698364</td>\n",
       "      <td>633.405499</td>\n",
       "    </tr>\n",
       "  </tbody>\n",
       "</table>\n",
       "</div>"
      ],
      "text/plain": [
       "     x    y     xgboost      linear\n",
       "0    0    8    9.905086    8.683965\n",
       "1    1   13    9.905086   13.681738\n",
       "2    3   23   20.523394   23.677282\n",
       "3    5   33   28.935297   33.672827\n",
       "4    7   43   28.935297   43.668371\n",
       "5    9   53   49.514168   53.663916\n",
       "6   11   63   64.406387   63.659460\n",
       "7   15   83   75.930733   83.650549\n",
       "8   18   98  111.305298   98.643866\n",
       "9  125  633  633.698364  633.405499"
      ]
     },
     "execution_count": 41,
     "metadata": {},
     "output_type": "execute_result"
    }
   ],
   "source": [
    "df_tmp"
   ]
  },
  {
   "cell_type": "code",
   "execution_count": 42,
   "metadata": {},
   "outputs": [
    {
     "data": {
      "image/png": "[encoded data removed]",
      "text/plain": [
       "<Figure size 432x288 with 1 Axes>"
      ]
     },
     "metadata": {
      "needs_background": "light"
     },
     "output_type": "display_data"
    }
   ],
   "source": [
    "# XGBoost Predictions have an upper bound and lower bound\n",
    "# Linear Regression Extrapolates\n",
    "plt.scatter(df_tmp.x,df_tmp.y,label='Actual',color='r')\n",
    "plt.plot(df_tmp.x,df_tmp.linear,label='LinearRegression')\n",
    "plt.plot(df_tmp.x,df_tmp.xgboost,label='XGBoost')\n",
    "plt.legend()\n",
    "plt.xlabel('X')\n",
    "plt.ylabel('y')\n",
    "plt.title('Input within range')\n",
    "plt.show()"
   ]
  },
  {
   "cell_type": "markdown",
   "metadata": {},
   "source": [
    "<h2>Summary</h2>"
   ]
  },
  {
   "cell_type": "markdown",
   "metadata": {},
   "source": [
    "1. Use sagemaker notebook as your own server on the cloud\n",
    "2. Install python packages\n",
    "3. Train directly on SageMaker Notebook (for small datasets, it takes few seconds).\n",
    "4. Once happy with algorithm and performance, you can train on sagemaker cloud (takes several minutes even for small datasets)\n",
    "5. Not all algorithms are available for installation (for example: AWS algorithms like DeepAR are available only in SageMaker)\n",
    "6. In this exercise, we installed XGBoost and compared performance of XGBoost model and Linear Regression"
   ]
  }
 ],
 "metadata": {
  "kernelspec": {
   "display_name": "conda_python3",
   "language": "python",
   "name": "conda_python3"
  },
  "language_info": {
   "codemirror_mode": {
    "name": "ipython",
    "version": 3
   },
   "file_extension": ".py",
   "mimetype": "text/x-python",
   "name": "python",
   "nbconvert_exporter": "python",
   "pygments_lexer": "ipython3",
   "version": "3.6.13"
  }
 },
 "nbformat": 4,
 "nbformat_minor": 4
}
