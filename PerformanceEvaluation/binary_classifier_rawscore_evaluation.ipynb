{
 "cells": [
  {
   "cell_type": "markdown",
   "metadata": {},
   "source": [
    "<h1>Binary Classifier Raw Score Evaluation</h1>\n",
    "\n",
    "<q><i>The actual output of many binary classification algorithms is a prediction score. The score indicates the system’s certainty that the given observation belongs to the positive class</i></q><br>\n",
    "\n",
    "To convert this raw score to a positive or negative class, we need to specify a cut-off. A sample with score greater than the cut-off is classified as positive class and a sample with score less than the cut-off is classified as negative class.\n",
    "\n",
    "We need to now assess how algorithm would behave under different classification thresholds.  Instead of manually performing this step, we can compute \"AUC\" metric.  AUC refers to Area Under Curve.  The curve here refers to the plot that has Probability of False Alarm (False Positive Rate) in X-Axis and Probability of Detection (Recall) in Y-Axis. By plotting False Alarm vs Recall at different cut-off thresholds, we can form a curve.  AUC measures the area under this curve.\n",
    "\n",
    "Common Techniques for evaluating performance:<br>\n",
    "<li>Visually observe raw score using Plots</li>\n",
    "<li>Evaluate Area Under Curve (AUC) Metric</li>\n",
    "\n",
    "\n",
    "Reference:<br>\n",
    "https://en.wikipedia.org/wiki/Receiver_operating_characteristic\n",
    "\n",
    "<q>AUC is a different type of metric. It measures the ability of the model to predict a higher score for positive examples as compared to negative examples. Since AUC is independent of the selected threshold, you can get a sense of the prediction performance of your model from the AUC metric without picking a threshold.</q>\n",
    "\n",
    "Reference:<br>\n",
    "https://docs.aws.amazon.com/machine-learning/latest/dg/binary-classification.html\n",
    "\n",
    "In this example, let's look at how to compute AUC metric from raw scores and use that to compare model performance"
   ]
  },
  {
   "cell_type": "code",
   "execution_count": 1,
   "metadata": {},
   "outputs": [],
   "source": [
    "import pandas as pd\n",
    "import numpy as np\n",
    "import matplotlib.pyplot as plt\n",
    "import itertools"
   ]
  },
  {
   "cell_type": "markdown",
   "metadata": {},
   "source": [
    "<h2>Exam Result Data set</h2>\n",
    "This dataset contains Actual Pass or Fail for each sample. Model Prediction columns contains raw scores that the models came up with for that sample\n",
    "<h3>Columns</h3>\n",
    "<li>Pass = Actual Pass or Fail for the sample</li>\n",
    "<li>Model1_Prediction = Raw scores predicted by model 1</li>\n",
    "<li>Model2_Prediction = Raw scores predicted by model 2</li>\n",
    "<li>Model3_Prediction = Raw scores predicted by model 3</li>\n",
    "<li>Model4_Prediction = Raw scores predicted by model 4</li>\n",
    "<p>We are going to compare performance of these four models</p>\n",
    "\n",
    "Hours Spent and Exam Result (Pass/Fail) Data set:<br>\n",
    "https://en.wikipedia.org/wiki/Logistic_regression"
   ]
  },
  {
   "cell_type": "code",
   "execution_count": 2,
   "metadata": {},
   "outputs": [],
   "source": [
    "models = ['Model 1','Model 2', 'Model 3', 'Model 4']\n",
    "df = pd.read_csv('HoursExamSampleRawScore.csv')"
   ]
  },
  {
   "cell_type": "code",
   "execution_count": 3,
   "metadata": {},
   "outputs": [
    {
     "data": {
      "text/html": [
       "<div>\n",
       "<style scoped>\n",
       "    .dataframe tbody tr th:only-of-type {\n",
       "        vertical-align: middle;\n",
       "    }\n",
       "\n",
       "    .dataframe tbody tr th {\n",
       "        vertical-align: top;\n",
       "    }\n",
       "\n",
       "    .dataframe thead th {\n",
       "        text-align: right;\n",
       "    }\n",
       "</style>\n",
       "<table border=\"1\" class=\"dataframe\">\n",
       "  <thead>\n",
       "    <tr style=\"text-align: right;\">\n",
       "      <th></th>\n",
       "      <th>Hours</th>\n",
       "      <th>Pass</th>\n",
       "      <th>Model1_Prediction</th>\n",
       "      <th>Model2_Prediction</th>\n",
       "      <th>Model3_Prediction</th>\n",
       "      <th>Model4_Prediction</th>\n",
       "    </tr>\n",
       "  </thead>\n",
       "  <tbody>\n",
       "    <tr>\n",
       "      <th>0</th>\n",
       "      <td>0.50</td>\n",
       "      <td>0</td>\n",
       "      <td>0.12</td>\n",
       "      <td>0.22</td>\n",
       "      <td>0.01</td>\n",
       "      <td>0.53</td>\n",
       "    </tr>\n",
       "    <tr>\n",
       "      <th>1</th>\n",
       "      <td>0.75</td>\n",
       "      <td>0</td>\n",
       "      <td>0.23</td>\n",
       "      <td>0.27</td>\n",
       "      <td>0.09</td>\n",
       "      <td>0.51</td>\n",
       "    </tr>\n",
       "    <tr>\n",
       "      <th>2</th>\n",
       "      <td>1.00</td>\n",
       "      <td>0</td>\n",
       "      <td>0.31</td>\n",
       "      <td>0.28</td>\n",
       "      <td>0.13</td>\n",
       "      <td>0.96</td>\n",
       "    </tr>\n",
       "    <tr>\n",
       "      <th>3</th>\n",
       "      <td>1.25</td>\n",
       "      <td>0</td>\n",
       "      <td>0.35</td>\n",
       "      <td>0.17</td>\n",
       "      <td>0.15</td>\n",
       "      <td>0.75</td>\n",
       "    </tr>\n",
       "    <tr>\n",
       "      <th>4</th>\n",
       "      <td>1.50</td>\n",
       "      <td>0</td>\n",
       "      <td>0.42</td>\n",
       "      <td>0.42</td>\n",
       "      <td>0.20</td>\n",
       "      <td>0.50</td>\n",
       "    </tr>\n",
       "    <tr>\n",
       "      <th>5</th>\n",
       "      <td>1.75</td>\n",
       "      <td>0</td>\n",
       "      <td>0.52</td>\n",
       "      <td>0.08</td>\n",
       "      <td>0.21</td>\n",
       "      <td>0.82</td>\n",
       "    </tr>\n",
       "    <tr>\n",
       "      <th>6</th>\n",
       "      <td>1.75</td>\n",
       "      <td>1</td>\n",
       "      <td>0.52</td>\n",
       "      <td>0.34</td>\n",
       "      <td>0.27</td>\n",
       "      <td>0.99</td>\n",
       "    </tr>\n",
       "    <tr>\n",
       "      <th>7</th>\n",
       "      <td>2.00</td>\n",
       "      <td>0</td>\n",
       "      <td>0.55</td>\n",
       "      <td>0.10</td>\n",
       "      <td>0.31</td>\n",
       "      <td>0.87</td>\n",
       "    </tr>\n",
       "    <tr>\n",
       "      <th>8</th>\n",
       "      <td>2.25</td>\n",
       "      <td>1</td>\n",
       "      <td>0.62</td>\n",
       "      <td>0.37</td>\n",
       "      <td>0.32</td>\n",
       "      <td>0.78</td>\n",
       "    </tr>\n",
       "    <tr>\n",
       "      <th>9</th>\n",
       "      <td>2.50</td>\n",
       "      <td>0</td>\n",
       "      <td>0.66</td>\n",
       "      <td>0.26</td>\n",
       "      <td>0.38</td>\n",
       "      <td>0.62</td>\n",
       "    </tr>\n",
       "    <tr>\n",
       "      <th>10</th>\n",
       "      <td>2.75</td>\n",
       "      <td>1</td>\n",
       "      <td>0.70</td>\n",
       "      <td>0.11</td>\n",
       "      <td>0.40</td>\n",
       "      <td>0.99</td>\n",
       "    </tr>\n",
       "    <tr>\n",
       "      <th>11</th>\n",
       "      <td>3.00</td>\n",
       "      <td>0</td>\n",
       "      <td>0.73</td>\n",
       "      <td>0.48</td>\n",
       "      <td>0.43</td>\n",
       "      <td>0.89</td>\n",
       "    </tr>\n",
       "    <tr>\n",
       "      <th>12</th>\n",
       "      <td>3.25</td>\n",
       "      <td>1</td>\n",
       "      <td>0.75</td>\n",
       "      <td>0.13</td>\n",
       "      <td>0.51</td>\n",
       "      <td>0.96</td>\n",
       "    </tr>\n",
       "    <tr>\n",
       "      <th>13</th>\n",
       "      <td>3.50</td>\n",
       "      <td>0</td>\n",
       "      <td>0.77</td>\n",
       "      <td>0.42</td>\n",
       "      <td>0.52</td>\n",
       "      <td>0.57</td>\n",
       "    </tr>\n",
       "    <tr>\n",
       "      <th>14</th>\n",
       "      <td>4.00</td>\n",
       "      <td>1</td>\n",
       "      <td>0.80</td>\n",
       "      <td>0.09</td>\n",
       "      <td>0.60</td>\n",
       "      <td>0.55</td>\n",
       "    </tr>\n",
       "    <tr>\n",
       "      <th>15</th>\n",
       "      <td>4.25</td>\n",
       "      <td>1</td>\n",
       "      <td>0.82</td>\n",
       "      <td>0.11</td>\n",
       "      <td>0.61</td>\n",
       "      <td>0.91</td>\n",
       "    </tr>\n",
       "    <tr>\n",
       "      <th>16</th>\n",
       "      <td>4.50</td>\n",
       "      <td>1</td>\n",
       "      <td>0.83</td>\n",
       "      <td>0.41</td>\n",
       "      <td>0.62</td>\n",
       "      <td>0.95</td>\n",
       "    </tr>\n",
       "    <tr>\n",
       "      <th>17</th>\n",
       "      <td>4.75</td>\n",
       "      <td>1</td>\n",
       "      <td>0.88</td>\n",
       "      <td>0.48</td>\n",
       "      <td>0.72</td>\n",
       "      <td>0.91</td>\n",
       "    </tr>\n",
       "    <tr>\n",
       "      <th>18</th>\n",
       "      <td>5.00</td>\n",
       "      <td>1</td>\n",
       "      <td>0.91</td>\n",
       "      <td>0.42</td>\n",
       "      <td>0.74</td>\n",
       "      <td>0.51</td>\n",
       "    </tr>\n",
       "    <tr>\n",
       "      <th>19</th>\n",
       "      <td>5.50</td>\n",
       "      <td>1</td>\n",
       "      <td>0.91</td>\n",
       "      <td>0.09</td>\n",
       "      <td>0.77</td>\n",
       "      <td>0.86</td>\n",
       "    </tr>\n",
       "  </tbody>\n",
       "</table>\n",
       "</div>"
      ],
      "text/plain": [
       "    Hours  Pass  Model1_Prediction  Model2_Prediction  Model3_Prediction  \\\n",
       "0    0.50     0               0.12               0.22               0.01   \n",
       "1    0.75     0               0.23               0.27               0.09   \n",
       "2    1.00     0               0.31               0.28               0.13   \n",
       "3    1.25     0               0.35               0.17               0.15   \n",
       "4    1.50     0               0.42               0.42               0.20   \n",
       "5    1.75     0               0.52               0.08               0.21   \n",
       "6    1.75     1               0.52               0.34               0.27   \n",
       "7    2.00     0               0.55               0.10               0.31   \n",
       "8    2.25     1               0.62               0.37               0.32   \n",
       "9    2.50     0               0.66               0.26               0.38   \n",
       "10   2.75     1               0.70               0.11               0.40   \n",
       "11   3.00     0               0.73               0.48               0.43   \n",
       "12   3.25     1               0.75               0.13               0.51   \n",
       "13   3.50     0               0.77               0.42               0.52   \n",
       "14   4.00     1               0.80               0.09               0.60   \n",
       "15   4.25     1               0.82               0.11               0.61   \n",
       "16   4.50     1               0.83               0.41               0.62   \n",
       "17   4.75     1               0.88               0.48               0.72   \n",
       "18   5.00     1               0.91               0.42               0.74   \n",
       "19   5.50     1               0.91               0.09               0.77   \n",
       "\n",
       "    Model4_Prediction  \n",
       "0                0.53  \n",
       "1                0.51  \n",
       "2                0.96  \n",
       "3                0.75  \n",
       "4                0.50  \n",
       "5                0.82  \n",
       "6                0.99  \n",
       "7                0.87  \n",
       "8                0.78  \n",
       "9                0.62  \n",
       "10               0.99  \n",
       "11               0.89  \n",
       "12               0.96  \n",
       "13               0.57  \n",
       "14               0.55  \n",
       "15               0.91  \n",
       "16               0.95  \n",
       "17               0.91  \n",
       "18               0.51  \n",
       "19               0.86  "
      ]
     },
     "execution_count": 3,
     "metadata": {},
     "output_type": "execute_result"
    }
   ],
   "source": [
    "df"
   ]
  },
  {
   "cell_type": "markdown",
   "metadata": {},
   "source": [
    "## Plot Data\n",
    "Compare performance visually <br>"
   ]
  },
  {
   "cell_type": "code",
   "execution_count": 4,
   "metadata": {},
   "outputs": [
    {
     "data": {
      "image/png": "[encoded data removed]",
      "text/plain": [
       "<Figure size 432x288 with 1 Axes>"
      ]
     },
     "metadata": {
      "needs_background": "light"
     },
     "output_type": "display_data"
    }
   ],
   "source": [
    "plt.figure()\n",
    "plt.scatter(df['Hours'],df['Pass'],label='Actual')\n",
    "plt.legend(loc=7)\n",
    "plt.xlabel('Hours')\n",
    "plt.ylabel('Pass / Fail')\n",
    "plt.show()"
   ]
  },
  {
   "cell_type": "markdown",
   "metadata": {},
   "source": [
    "<h4>All scores above cut-off threshold are considered Pass</h4>"
   ]
  },
  {
   "cell_type": "code",
   "execution_count": 5,
   "metadata": {},
   "outputs": [
    {
     "data": {
      "image/png": "[encoded data removed]",
      "text/plain": [
       "<Figure size 432x288 with 1 Axes>"
      ]
     },
     "metadata": {
      "needs_background": "light"
     },
     "output_type": "display_data"
    }
   ],
   "source": [
    "# Compare performance of Actual and Model 1 Prediction\n",
    "plt.figure()\n",
    "plt.scatter(df['Hours'],df['Pass'],label='Actual')\n",
    "plt.scatter(df['Hours'],df['Model1_Prediction'],label='Model 1',marker='^')\n",
    "plt.plot([0,6],[0.5,0.5],color='r',label='cutoff')\n",
    "plt.xlim(left=0)\n",
    "plt.xlabel('Hours')\n",
    "plt.ylabel('Pass / Fail')\n",
    "plt.legend(loc=4)\n",
    "plt.show()"
   ]
  },
  {
   "cell_type": "code",
   "execution_count": 6,
   "metadata": {},
   "outputs": [
    {
     "data": {
      "image/png": "[encoded data removed]",
      "text/plain": [
       "<Figure size 720x720 with 4 Axes>"
      ]
     },
     "metadata": {
      "needs_background": "light"
     },
     "output_type": "display_data"
    }
   ],
   "source": [
    "plt.figure(figsize=(10,10))\n",
    "\n",
    "for idx, model in enumerate(models):\n",
    "    plt.subplot(2,2,idx+1)\n",
    "    \n",
    "    plt.scatter(df['Hours'],df['Pass'],label='Actual')\n",
    "    plt.scatter(df['Hours'],df[model.replace(' ','') + '_Prediction'],\n",
    "                label=model,marker='^')\n",
    "    plt.plot([0,6],[0.5,0.5],color='r',label='cutoff')\n",
    "    plt.xlim(left=0)\n",
    "    plt.legend(loc=4)\n",
    "    plt.xlabel('Hours')\n",
    "    plt.ylabel('Pass / Fail')"
   ]
  },
  {
   "cell_type": "markdown",
   "metadata": {},
   "source": [
    "From the plots, we can observe that:<br>\n",
    "<li>Model 1 assigns a score that increases with number of hours spent studying.  Model assigned score crosses cut-off threshold of 0.5 at around 1.5 hours of study time</li>\n",
    "<li>Model 2 has raw score of less than 0.5 for all samples</li>\n",
    "<li>Model 3 assigns a score that linearly changes with hours spent studying.  Model assigned score crosses cut-off threshold of 0.5 at around 3 hours of study time</li>\n",
    "<li>Model 4 has raw score of greater than 0.5 for all samples</li>"
   ]
  },
  {
   "cell_type": "markdown",
   "metadata": {},
   "source": [
    "<h2>Area Under Curve Metrics</h2>"
   ]
  },
  {
   "cell_type": "code",
   "execution_count": 7,
   "metadata": {},
   "outputs": [],
   "source": [
    "from sklearn.metrics import roc_auc_score"
   ]
  },
  {
   "cell_type": "code",
   "execution_count": 8,
   "metadata": {},
   "outputs": [
    {
     "name": "stdout",
     "output_type": "stream",
     "text": [
      "AUC Score\n",
      " Model 1: 0.895\n",
      " Model 2: 0.465\n",
      " Model 3: 0.900\n",
      " Model 4: 0.740\n"
     ]
    }
   ],
   "source": [
    "print ('AUC Score')\n",
    "for model in models:\n",
    "    roc_score = roc_auc_score(df['Pass'], df[model.replace(' ','') + '_Prediction'])\n",
    "    print(' {0}: {1:.3f}'.format(model,roc_score))"
   ]
  },
  {
   "cell_type": "markdown",
   "metadata": {},
   "source": [
    "<h2>Summary</h2>\n",
    "\n",
    "Models with AUC scores closer to 1 performs better\n",
    "\n",
    "Models with AUC score close to 0.5 is the baseline and it represents random-guessing\n",
    "\n",
    "Models with AUC score close to 0 is mis-classfying 1's as 0's and 0's as 1's\n",
    "\n",
    "\n",
    "From these metrics, we can see that Model 1 and Model 3 are performing better than Model 2 and 4.<br><br>\n",
    "Between Model 1 and 3, Model 1 has higher Recall (it correctly identifies more positive samples) at the cost of higher False Positive Rate (negative samples were misclassified as positive)\n",
    "<br>Model 3 offers balanced performance"
   ]
  }
 ],
 "metadata": {
  "kernelspec": {
   "display_name": "conda_python3",
   "language": "python",
   "name": "conda_python3"
  },
  "language_info": {
   "codemirror_mode": {
    "name": "ipython",
    "version": 3
   },
   "file_extension": ".py",
   "mimetype": "text/x-python",
   "name": "python",
   "nbconvert_exporter": "python",
   "pygments_lexer": "ipython3",
   "version": "3.6.13"
  }
 },
 "nbformat": 4,
 "nbformat_minor": 4
}
